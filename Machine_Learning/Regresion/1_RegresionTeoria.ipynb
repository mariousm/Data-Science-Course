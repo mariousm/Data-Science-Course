{
 "cells": [
  {
   "cell_type": "code",
   "execution_count": 1,
   "metadata": {},
   "outputs": [],
   "source": [
    "import numpy as np\n",
    "import pandas as pd\n",
    "import matplotlib.pyplot as plt\n",
    "import seaborn as sns\n",
    "from ipywidgets import interact, fixed\n",
    "from scipy import stats\n",
    "\n",
    "# Cofiguraciones\n",
    "%matplotlib inline\n",
    "plt.rcParams['figure.figsize'] = (10,10)"
   ]
  },
  {
   "cell_type": "markdown",
   "metadata": {},
   "source": [
    "# Lectura de datos"
   ]
  },
  {
   "cell_type": "code",
   "execution_count": 2,
   "metadata": {},
   "outputs": [],
   "source": [
    "vehiculos = pd.read_csv(\"./Data/vehiculos_procesado.csv\" , usecols=[\"consumo\", \"co2\", \"cilindros\", \"desplazamiento\"])\n",
    "\n",
    "litros_por_galon = 3.78541\n",
    "vehiculos[\"consumo_litros_milla\"] = litros_por_galon / vehiculos.consumo"
   ]
  },
  {
   "cell_type": "code",
   "execution_count": 3,
   "metadata": {},
   "outputs": [
    {
     "data": {
      "text/plain": [
       "(35539, 5)"
      ]
     },
     "execution_count": 3,
     "metadata": {},
     "output_type": "execute_result"
    }
   ],
   "source": [
    "vehiculos.shape"
   ]
  },
  {
   "cell_type": "code",
   "execution_count": 4,
   "metadata": {},
   "outputs": [
    {
     "data": {
      "text/html": [
       "<div>\n",
       "<style scoped>\n",
       "    .dataframe tbody tr th:only-of-type {\n",
       "        vertical-align: middle;\n",
       "    }\n",
       "\n",
       "    .dataframe tbody tr th {\n",
       "        vertical-align: top;\n",
       "    }\n",
       "\n",
       "    .dataframe thead th {\n",
       "        text-align: right;\n",
       "    }\n",
       "</style>\n",
       "<table border=\"1\" class=\"dataframe\">\n",
       "  <thead>\n",
       "    <tr style=\"text-align: right;\">\n",
       "      <th></th>\n",
       "      <th>desplazamiento</th>\n",
       "      <th>cilindros</th>\n",
       "      <th>consumo</th>\n",
       "      <th>co2</th>\n",
       "      <th>consumo_litros_milla</th>\n",
       "    </tr>\n",
       "  </thead>\n",
       "  <tbody>\n",
       "    <tr>\n",
       "      <th>0</th>\n",
       "      <td>2.5</td>\n",
       "      <td>4.0</td>\n",
       "      <td>17</td>\n",
       "      <td>522.764706</td>\n",
       "      <td>0.222671</td>\n",
       "    </tr>\n",
       "    <tr>\n",
       "      <th>1</th>\n",
       "      <td>4.2</td>\n",
       "      <td>6.0</td>\n",
       "      <td>13</td>\n",
       "      <td>683.615385</td>\n",
       "      <td>0.291185</td>\n",
       "    </tr>\n",
       "    <tr>\n",
       "      <th>2</th>\n",
       "      <td>2.5</td>\n",
       "      <td>4.0</td>\n",
       "      <td>16</td>\n",
       "      <td>555.437500</td>\n",
       "      <td>0.236588</td>\n",
       "    </tr>\n",
       "    <tr>\n",
       "      <th>3</th>\n",
       "      <td>4.2</td>\n",
       "      <td>6.0</td>\n",
       "      <td>13</td>\n",
       "      <td>683.615385</td>\n",
       "      <td>0.291185</td>\n",
       "    </tr>\n",
       "    <tr>\n",
       "      <th>4</th>\n",
       "      <td>3.8</td>\n",
       "      <td>6.0</td>\n",
       "      <td>16</td>\n",
       "      <td>555.437500</td>\n",
       "      <td>0.236588</td>\n",
       "    </tr>\n",
       "  </tbody>\n",
       "</table>\n",
       "</div>"
      ],
      "text/plain": [
       "   desplazamiento  cilindros  consumo         co2  consumo_litros_milla\n",
       "0             2.5        4.0       17  522.764706              0.222671\n",
       "1             4.2        6.0       13  683.615385              0.291185\n",
       "2             2.5        4.0       16  555.437500              0.236588\n",
       "3             4.2        6.0       13  683.615385              0.291185\n",
       "4             3.8        6.0       16  555.437500              0.236588"
      ]
     },
     "execution_count": 4,
     "metadata": {},
     "output_type": "execute_result"
    }
   ],
   "source": [
    "vehiculos.head()"
   ]
  },
  {
   "cell_type": "markdown",
   "metadata": {},
   "source": [
    "# Regresión lineal - OLS (Ordinary Least Squares)  \n",
    "  \n",
    "    \n",
    "      \n",
    "El modelo de regresión lineal mediante OLS (ordinary least squares) tiene la forma:\n",
    "\n",
    "$$ \\hat{y} = \\alpha + \\beta_{1}*x_{1} + \\beta_{2}*x_{2} + ... + \\beta_{n}*x_{n} + \\varepsilon$$\n",
    "\n",
    "Donde $\\hat{y}$ es la predicción que queremos hacer,\n",
    "\n",
    "$\\alpha$ es el término independiente,\n",
    "\n",
    "$\\beta_{n}$ es un vector de coeficientes\n",
    "y $x_{n}$ son los valores de las variables del dataset.\n",
    "\n",
    "El objetivo es obtener $\\alpha$ y $\\beta_{n}$  tales que error cuadrático (residuo) , definido como:\n",
    "\n",
    "$$RSS = \\varepsilon² = \\sum\\limits_{i=1}^n(y_{i} - (\\alpha - \\beta_{i}x_{i}))^2$$\n",
    "\n",
    "sea el mínimo.\n",
    "\n",
    "Para ello tenemos que resolver las siguientes equaciones\n",
    "\n",
    "$$\\hat{\\alpha} = \\bar{y} - \\hat{\\beta}*\\bar{x}$$\n",
    "$$\\hat{\\beta} = (X^TX)^{-1}X^Ty$$"
   ]
  },
  {
   "cell_type": "markdown",
   "metadata": {},
   "source": [
    "# Definimos el porcentaje de entramiento\n",
    "\n",
    "Hay que definir un porcentaje para los datos de entrenamiento, ya que los restantes se usarán para el test"
   ]
  },
  {
   "cell_type": "code",
   "execution_count": 5,
   "metadata": {},
   "outputs": [],
   "source": [
    "pct_entrenamiento = 0.8"
   ]
  },
  {
   "cell_type": "markdown",
   "metadata": {},
   "source": [
    "# Definimos los conjuntos de training y test"
   ]
  },
  {
   "cell_type": "code",
   "execution_count": 6,
   "metadata": {},
   "outputs": [],
   "source": [
    "vehiculos_training = vehiculos.sample(frac=pct_entrenamiento)\n",
    "\n",
    "vehiculos_test = vehiculos[~vehiculos.index.isin(vehiculos_training.index)]"
   ]
  },
  {
   "cell_type": "code",
   "execution_count": 7,
   "metadata": {},
   "outputs": [
    {
     "name": "stdout",
     "output_type": "stream",
     "text": [
      "(28431, 5)\n",
      "(7108, 5)\n"
     ]
    }
   ],
   "source": [
    "print(vehiculos_training.shape)\n",
    "print(vehiculos_test.shape)"
   ]
  },
  {
   "cell_type": "markdown",
   "metadata": {},
   "source": [
    "# $$\\hat{\\beta}$$\n",
    "\n",
    "A partir de aquí usamos el conjunto de training"
   ]
  },
  {
   "cell_type": "code",
   "execution_count": 12,
   "metadata": {},
   "outputs": [],
   "source": [
    "variables_independientes = [\"desplazamiento\", \"cilindros\", \"consumo_litros_milla\"]\n",
    "variable_dependiente = \"co2\"\n",
    "\n",
    "X = vehiculos_training[variables_independientes].to_numpy()\n",
    "y = vehiculos_training[variable_dependiente].to_numpy()\n",
    "X_T = X.T"
   ]
  },
  {
   "cell_type": "code",
   "execution_count": 13,
   "metadata": {},
   "outputs": [
    {
     "name": "stdout",
     "output_type": "stream",
     "text": [
      "Tamaño de X: (28431, 3)\n",
      "Tamaño de y: (28431,)\n",
      "Tamaño de X_T: (3, 28431)\n",
      "Matriz X:\n",
      "[[2.5        4.         0.17206409]\n",
      " [2.4        4.         0.1892705 ]\n",
      " [3.5        6.         0.1892705 ]\n",
      " ...\n",
      " [2.8        4.         0.18025762]\n",
      " [1.9        4.         0.1514164 ]\n",
      " [3.5        5.         0.19923211]]\n",
      "Matriz y:\n",
      "[403.95454545 444.35       444.35       ... 423.19047619 355.48\n",
      " 467.73684211]\n",
      "Matriz transpuesta X:\n",
      "[[2.5        2.4        3.5        ... 2.8        1.9        3.5       ]\n",
      " [4.         4.         6.         ... 4.         4.         5.        ]\n",
      " [0.17206409 0.1892705  0.1892705  ... 0.18025762 0.1514164  0.19923211]]\n"
     ]
    }
   ],
   "source": [
    "print(\"Tamaño de X: \" + str(X.shape))\n",
    "print(\"Tamaño de y: \" + str(y.shape))\n",
    "print(\"Tamaño de X_T: \" + str(X_T.shape))\n",
    "print(\"Matriz X:\")\n",
    "print(X)\n",
    "print(\"Matriz y:\")\n",
    "print(y)\n",
    "print(\"Matriz transpuesta X:\")\n",
    "print(X_T)"
   ]
  },
  {
   "cell_type": "code",
   "execution_count": 14,
   "metadata": {},
   "outputs": [],
   "source": [
    "betas = np.linalg.inv(X_T @ X) @ X_T @ y"
   ]
  },
  {
   "cell_type": "code",
   "execution_count": 15,
   "metadata": {},
   "outputs": [
    {
     "data": {
      "text/plain": [
       "array([ 3.92143977e+00, -6.30512893e-01,  2.30422507e+03])"
      ]
     },
     "execution_count": 15,
     "metadata": {},
     "output_type": "execute_result"
    }
   ],
   "source": [
    "betas"
   ]
  },
  {
   "cell_type": "markdown",
   "metadata": {},
   "source": [
    "# $$\\hat{\\alpha}$$"
   ]
  },
  {
   "cell_type": "code",
   "execution_count": 30,
   "metadata": {},
   "outputs": [],
   "source": [
    "alfa = y.mean() - np.dot(betas,vehiculos_training[variables_independientes].mean())"
   ]
  },
  {
   "cell_type": "code",
   "execution_count": 31,
   "metadata": {},
   "outputs": [
    {
     "data": {
      "text/plain": [
       "0.3745166928993626"
      ]
     },
     "execution_count": 31,
     "metadata": {},
     "output_type": "execute_result"
    }
   ],
   "source": [
    "alfa"
   ]
  },
  {
   "cell_type": "markdown",
   "metadata": {},
   "source": [
    "# Calcular predicción"
   ]
  },
  {
   "cell_type": "code",
   "execution_count": 37,
   "metadata": {},
   "outputs": [],
   "source": [
    "def predecir(row):\n",
    "    return alfa + np.dot(betas, row.values)"
   ]
  },
  {
   "cell_type": "code",
   "execution_count": 38,
   "metadata": {},
   "outputs": [
    {
     "name": "stderr",
     "output_type": "stream",
     "text": [
      "<ipython-input-38-2b4bf36eee6e>:2: SettingWithCopyWarning: \n",
      "A value is trying to be set on a copy of a slice from a DataFrame.\n",
      "Try using .loc[row_indexer,col_indexer] = value instead\n",
      "\n",
      "See the caveats in the documentation: https://pandas.pydata.org/pandas-docs/stable/user_guide/indexing.html#returning-a-view-versus-a-copy\n",
      "  vehiculos_test[\"co2_pred\"] = vehiculos_test[variables_independientes].apply(predecir, axis=1)\n"
     ]
    }
   ],
   "source": [
    "vehiculos_training[\"co2_pred\"] = vehiculos_training[variables_independientes].apply(predecir, axis=1)\n",
    "vehiculos_test[\"co2_pred\"] = vehiculos_test[variables_independientes].apply(predecir, axis=1)"
   ]
  },
  {
   "cell_type": "code",
   "execution_count": 39,
   "metadata": {},
   "outputs": [
    {
     "data": {
      "text/plain": [
       "'y ~ 0.375 + 3.92*desplazamiento + -0.63*cilindros + 2304.225*consumo_litros_milla'"
      ]
     },
     "execution_count": 39,
     "metadata": {},
     "output_type": "execute_result"
    }
   ],
   "source": [
    "model_formula = \"y ~ {alfa:.3f} + {beta_1:.2f}*desplazamiento + {beta_2:.2f}*cilindros + {beta_3:.3f}*consumo_litros_milla\".format(\n",
    "    alfa=alfa, beta_1=betas[0], beta_2=betas[1], beta_3=betas[2])\n",
    "\n",
    "model_formula"
   ]
  },
  {
   "cell_type": "code",
   "execution_count": 44,
   "metadata": {},
   "outputs": [
    {
     "data": {
      "image/png": "[encoded data removed]",
      "text/plain": [
       "<Figure size 720x720 with 1 Axes>"
      ]
     },
     "metadata": {
      "needs_background": "light"
     },
     "output_type": "display_data"
    }
   ],
   "source": [
    "plt.scatter(vehiculos_test.consumo_litros_milla, vehiculos_test.co2, alpha=0.5, label=\"real\")\n",
    "#plt.text(0.1, 850, model_formula)\n",
    "plt.plot(vehiculos_test.consumo_litros_milla, vehiculos_test.co2_pred, c=\"black\", label=\"prediccion\")\n",
    "plt.xlabel(\"Consumo combustible (litros/milla)\")\n",
    "plt.ylabel(\"emisión CO2 gramos/milla\")\n",
    "plt.legend();"
   ]
  },
  {
   "cell_type": "markdown",
   "metadata": {},
   "source": [
    "# Calculo del error"
   ]
  },
  {
   "cell_type": "code",
   "execution_count": 41,
   "metadata": {},
   "outputs": [],
   "source": [
    "def error_cuadrático_medio(y, y_pred):\n",
    "    return np.sum((y-y_pred)**2)/len(y)"
   ]
  },
  {
   "cell_type": "code",
   "execution_count": 42,
   "metadata": {},
   "outputs": [
    {
     "data": {
      "text/plain": [
       "134.67234050998263"
      ]
     },
     "execution_count": 42,
     "metadata": {},
     "output_type": "execute_result"
    }
   ],
   "source": [
    "error_training = error_cuadrático_medio(vehiculos_training.co2, vehiculos_training.co2_pred)\n",
    "error_training"
   ]
  },
  {
   "cell_type": "code",
   "execution_count": 43,
   "metadata": {},
   "outputs": [
    {
     "data": {
      "text/plain": [
       "117.86441112136936"
      ]
     },
     "execution_count": 43,
     "metadata": {},
     "output_type": "execute_result"
    }
   ],
   "source": [
    "error_test = error_cuadrático_medio(vehiculos_test.co2, vehiculos_test.co2_pred)\n",
    "error_test"
   ]
  }
 ],
 "metadata": {
  "kernelspec": {
   "display_name": "Python 3",
   "language": "python",
   "name": "python3"
  },
  "language_info": {
   "codemirror_mode": {
    "name": "ipython",
    "version": 3
   },
   "file_extension": ".py",
   "mimetype": "text/x-python",
   "name": "python",
   "nbconvert_exporter": "python",
   "pygments_lexer": "ipython3",
   "version": "3.8.3"
  }
 },
 "nbformat": 4,
 "nbformat_minor": 4
}

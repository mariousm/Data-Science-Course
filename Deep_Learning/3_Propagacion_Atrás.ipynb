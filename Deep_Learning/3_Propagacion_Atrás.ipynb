{
 "cells": [
  {
   "cell_type": "markdown",
   "metadata": {},
   "source": [
    "# Propagación hacia atrás\n",
    "\n",
    "En esta sección vamos a crear nuestra primera red neuronal capaz de aprender."
   ]
  },
  {
   "cell_type": "markdown",
   "metadata": {},
   "source": [
    "## Cargamos los datos"
   ]
  },
  {
   "cell_type": "markdown",
   "metadata": {},
   "source": [
    "Para hacer un ejemplo relativamente sencillo, vamos a resolver un problema de clasificación binaria usando el dataset del Cancer de Mama, que ya hemos visto anteriormente. Recordemos que es un dataset donde las variables independientes son medidas hechas de una imágen de un posible tumor y la variable objetivo es un 0 (cancer maligno) o un 1 (cancer benigno)"
   ]
  },
  {
   "cell_type": "code",
   "execution_count": 1,
   "metadata": {},
   "outputs": [],
   "source": [
    "import numpy as np\n",
    "%matplotlib inline\n",
    "import matplotlib.pyplot as plt\n",
    "plt.rcParams[\"figure.figsize\"] = (6, 6)"
   ]
  },
  {
   "cell_type": "code",
   "execution_count": 2,
   "metadata": {},
   "outputs": [],
   "source": [
    "from sklearn.datasets import load_breast_cancer\n",
    "\n",
    "data = load_breast_cancer()\n",
    "X, y = data.data, data.target"
   ]
  },
  {
   "cell_type": "markdown",
   "metadata": {},
   "source": [
    "Usamos solo las 4 primeras variables para que el input coincida con la capa de entrada de la red"
   ]
  },
  {
   "cell_type": "code",
   "execution_count": 3,
   "metadata": {},
   "outputs": [],
   "source": [
    "X = data.data[:,:4]"
   ]
  },
  {
   "cell_type": "code",
   "execution_count": 4,
   "metadata": {},
   "outputs": [
    {
     "data": {
      "text/plain": [
       "(569, 4)"
      ]
     },
     "execution_count": 4,
     "metadata": {},
     "output_type": "execute_result"
    }
   ],
   "source": [
    "X.shape"
   ]
  },
  {
   "cell_type": "markdown",
   "metadata": {},
   "source": [
    "Para entrenar una red neuronal es muy importante que los datos estén normalizados, si no lo son la red le va a dar más importancia a aquellas variables cuyo rango sea más grande."
   ]
  },
  {
   "cell_type": "code",
   "execution_count": 5,
   "metadata": {},
   "outputs": [],
   "source": [
    "from sklearn.preprocessing import StandardScaler"
   ]
  },
  {
   "cell_type": "code",
   "execution_count": 6,
   "metadata": {},
   "outputs": [],
   "source": [
    "x_estandardizador = StandardScaler()\n",
    "X_std = x_estandardizador.fit_transform(X)"
   ]
  },
  {
   "cell_type": "code",
   "execution_count": 7,
   "metadata": {},
   "outputs": [
    {
     "name": "stdout",
     "output_type": "stream",
     "text": [
      "[ 1.09706398 -2.07333501  1.26993369  0.9843749 ] 0\n"
     ]
    }
   ],
   "source": [
    "x0 = X_std[0]\n",
    "y0 = y[0]\n",
    "print(x0, y0)"
   ]
  },
  {
   "cell_type": "markdown",
   "metadata": {},
   "source": [
    "### Creación de la red neuronal"
   ]
  },
  {
   "cell_type": "markdown",
   "metadata": {},
   "source": [
    "E implementaremos el algoritmo de propagación hacia atrás (backpropagation) que es lo que permitirá que la red aprenda."
   ]
  },
  {
   "cell_type": "markdown",
   "metadata": {},
   "source": [
    "Es decir, una capa de entrada con 4 neuronas (*también llamadas **unidades**^), una capa oculta con 5 neuronas y una capa de salida que convertirá los outputs (o **activaciones** de la capa oculta en clase positiva o negativa"
   ]
  },
  {
   "cell_type": "markdown",
   "metadata": {},
   "source": [
    "En primer lugar definimos las funciones de activación distintas:\n",
    "- ** Función identidad**, que se usa en la capa de entrada y no hace nada (o sea, $f(x)=x$)\n",
    "- **Función Sigmoide**, que aplica la función sigmoide $f(x)=\\frac{1}{1+e^{-x}}$ que convierte los números al rango `[0,1]` y que se usa para problemas de clasificación binaria"
   ]
  },
  {
   "cell_type": "code",
   "execution_count": 8,
   "metadata": {},
   "outputs": [],
   "source": [
    "def fn_identidad(x, derivada=False):\n",
    "    if derivada:\n",
    "        return np.ones(x.shape)\n",
    "    return x\n",
    "                \n",
    "def fn_sigmoide(x, derivada=False):\n",
    "    if derivada:\n",
    "        return x*(1-x)\n",
    "    return 1/(1+np.exp(-x))"
   ]
  },
  {
   "cell_type": "markdown",
   "metadata": {},
   "source": [
    "también tenemos que definir una manera de computar el error de una predicción (error, coste y perdida se usan indistintamente)."
   ]
  },
  {
   "cell_type": "markdown",
   "metadata": {},
   "source": [
    "Para un problema de clasificación binaria, una buena métrica es la pérdida logarítmica ([logloss](http://wiki.fast.ai/index.php/Log_Loss))"
   ]
  },
  {
   "cell_type": "code",
   "execution_count": 9,
   "metadata": {},
   "outputs": [],
   "source": [
    "def error_logloss(y_pred, y):\n",
    "    p = np.clip(y_pred, 1e-15, 1 - 1e-15)\n",
    "    if y == 1:\n",
    "        return -np.log(p)\n",
    "    else:\n",
    "        return -np.log(1 - p)    "
   ]
  },
  {
   "cell_type": "markdown",
   "metadata": {},
   "source": [
    "En primer lugar, definimos la capa básica, que tiene un número de unidades un bias, y una función de activación"
   ]
  },
  {
   "cell_type": "code",
   "execution_count": 10,
   "metadata": {},
   "outputs": [],
   "source": [
    "class Layer:\n",
    "    def __init__(self, n_unidades, fn_activacion, bias=True):\n",
    "        self.n_unidades = n_unidades\n",
    "        self.fn_activacion = fn_activacion\n",
    "        self.dim_output = n_unidades\n",
    "        \n",
    "        # añadimos un peso más para la unidad de bias\n",
    "        self.bias = bias\n",
    "\n",
    "        self.dimensiones = \"no generada\"\n",
    "        self.w = None\n",
    "        \n",
    "    def __repr__(self):\n",
    "        return \"\"\"\n",
    "        Capa {}. dimensiones = {}.\n",
    "        pesos: {}\n",
    "        \"\"\".format(\n",
    "        self.nombre, self.dimensiones, self.w)\n",
    "    \n",
    "    def generar_pesos(self, dim_output_anterior):\n",
    "        if self.bias:\n",
    "            self.dimensiones = (self.n_unidades, dim_output_anterior+1)\n",
    "        else:\n",
    "            self.dimensiones = (self.n_unidades, dim_output_anterior)\n",
    "        self.w = np.random.random(self.dimensiones)\n",
    "\n",
    "    def add_bias(self, x):\n",
    "        if not self.bias:\n",
    "            return x\n",
    "        x_con_bias_1d = np.append(1, x)\n",
    "        # append convierte en array 1dimensional necesitamos 2d\n",
    "        return x_con_bias_1d.reshape(\n",
    "             x_con_bias_1d.shape[0], 1\n",
    "        )\n",
    "    \n",
    "    def activar(self, x):\n",
    "        x_con_bias_2d = self.add_bias(x)\n",
    "        return self.fn_activacion( self.w @ x_con_bias_2d )\n",
    "\n",
    "    def calcular_delta(self, producto_capa, output_capa):\n",
    "        return producto_capa * self.fn_activacion(output_capa, derivada=True)"
   ]
  },
  {
   "cell_type": "markdown",
   "metadata": {},
   "source": [
    "Tenemos 3 tipos de Capas de neuronas.\n",
    "\n",
    "- **Capa de Entrada**, no hace nada, simplemente conecta el input con el resto de la red\n",
    "- **Capa Oculta**, también llamada capa densa, realiza el algoritmo perceptrón con una función de activación no lineal\n",
    "- **Capa de Salida**, esta capa traduce el output de la capa antepenúltima a la variable objetivo deseada"
   ]
  },
  {
   "cell_type": "code",
   "execution_count": 11,
   "metadata": {},
   "outputs": [],
   "source": [
    "class InputLayer(Layer):\n",
    "    nombre = \"entrada\"\n",
    "\n",
    "    def generar_pesos(self):\n",
    "        pass      \n",
    "    \n",
    "    def activar(self, x):\n",
    "        return x\n",
    "\n",
    "class HiddenLayer(Layer):\n",
    "    nombre = \"oculta\"\n",
    "    \n",
    "class OutputLayer(Layer):\n",
    "    nombre = \"salida\"   "
   ]
  },
  {
   "cell_type": "markdown",
   "metadata": {},
   "source": [
    "Ahora creamos la red neuronal, que es simplemente una lista de capas y con capacidad de hacer propagación hacia delante y hacia atrás."
   ]
  },
  {
   "cell_type": "code",
   "execution_count": 12,
   "metadata": {},
   "outputs": [],
   "source": [
    "class RedNeuronal:\n",
    "    def __init__(self, ratio_aprendizaje, fn_error):\n",
    "        self.layers = []\n",
    "        self.ratio_aprendizaje = ratio_aprendizaje\n",
    "        self.fn_error = fn_error\n",
    "        \n",
    "    def add_layer(self, layer):\n",
    "        if layer.nombre == \"entrada\":\n",
    "            layer.generar_pesos()\n",
    "        else:\n",
    "            layer.generar_pesos(self.layers[-1].dim_output)\n",
    "        self.layers.append(layer)\n",
    "            \n",
    "    def __repr__(self):\n",
    "        info_red = \"\"\n",
    "        for layer in self.layers:\n",
    "            info_red += \"\\nCapa: {} Nº unidades: {}\".format(\n",
    "                        layer.nombre, layer.n_unidades)\n",
    "        return info_red\n",
    "    \n",
    "    def forward(self, x):\n",
    "        \n",
    "        for layer in self.layers:\n",
    "            layer.input = layer.add_bias(x).T\n",
    "            x = layer.activar(x)\n",
    "            layer.output = x\n",
    "        return x\n",
    "    \n",
    "    def calcular_error_prediccion(self, y_pred, y):\n",
    "        return self.fn_error(y_pred, y)\n",
    "    \n",
    "    def backward(self, y_pred, y):\n",
    "        # El error de prediccion final\n",
    "        delta_capa = self.calcular_error_prediccion(y_pred, y)\n",
    "        for layer in reversed(self.layers):\n",
    "            if layer.nombre == \"entrada\":\n",
    "                continue    \n",
    "            if layer.nombre == \"salida\":\n",
    "                producto_capa = delta_capa @ layer.w\n",
    "            else:\n",
    "                #quitamos el error del bias de la capa anterior\n",
    "                producto_capa = delta_capa[:,1:] @ layer.w\n",
    "            delta_capa = layer.calcular_delta(producto_capa, layer.output) \n",
    "            layer.delta = delta_capa       \n",
    "                   \n",
    "                \n",
    "    def actualizar_pesos(self):\n",
    "        \"\"\"\n",
    "        Actualiza pesos mediante el descenso de gradiente\"\"\"\n",
    "        for layer in self.layers[1:]:\n",
    "            layer.w = layer.w - self.ratio_aprendizaje \\\n",
    "                      *layer.delta * layer.input\n",
    "\n",
    "    def aprendizaje(self, x, y):\n",
    "        \"\"\"\n",
    "        Función principal para entrenar la red\n",
    "        \"\"\"\n",
    "        y_pred = self.forward(x)\n",
    "        self.backward(y_pred, y)\n",
    "        self.actualizar_pesos()\n",
    "        error_prediccion = self.calcular_error_prediccion(y_pred, y)\n",
    "        return error_prediccion\n",
    "\n",
    "    def predict_proba(self, x):\n",
    "        return self.forward(x)\n",
    "    \n",
    "    def predict(self, x):\n",
    "        probabilidad = self.predict_proba(x)\n",
    "        if probabilidad>=0.5:\n",
    "            return 1\n",
    "        else:\n",
    "            return 0"
   ]
  },
  {
   "cell_type": "markdown",
   "metadata": {},
   "source": [
    "#### Creación de la red neuronal"
   ]
  },
  {
   "cell_type": "markdown",
   "metadata": {},
   "source": [
    "En primer lugar tenemos que definir los tamaños de cada capa, y si van a incluir sesgo (bias) o no."
   ]
  },
  {
   "cell_type": "code",
   "execution_count": 13,
   "metadata": {},
   "outputs": [],
   "source": [
    "n_input = 4\n",
    "n_oculta = 5\n",
    "n_output = 1\n",
    "\n",
    "RATIO_APRENDIZAJE = 0.0001\n",
    "N_ITERACIONES=1000"
   ]
  },
  {
   "cell_type": "code",
   "execution_count": 14,
   "metadata": {},
   "outputs": [],
   "source": [
    "red_sigmoide = RedNeuronal(ratio_aprendizaje=RATIO_APRENDIZAJE, fn_error=error_logloss)\n",
    "\n",
    "red_sigmoide.add_layer(InputLayer(n_input, bias=False, fn_activacion=fn_identidad))\n",
    "red_sigmoide.add_layer(HiddenLayer(n_oculta, fn_activacion=fn_sigmoide))\n",
    "red_sigmoide.add_layer(OutputLayer(n_output, fn_activacion=fn_sigmoide))"
   ]
  },
  {
   "cell_type": "markdown",
   "metadata": {},
   "source": [
    "Inicialmente la red tiene unos pesos aleatorios"
   ]
  },
  {
   "cell_type": "code",
   "execution_count": 15,
   "metadata": {},
   "outputs": [
    {
     "data": {
      "text/plain": [
       "[\n",
       "         Capa entrada. dimensiones = no generada.\n",
       "         pesos: None\n",
       "         ,\n",
       " \n",
       "         Capa oculta. dimensiones = (5, 5).\n",
       "         pesos: [[0.05932494 0.24002885 0.66561425 0.03369015 0.55745208]\n",
       "  [0.01307787 0.16667856 0.44976436 0.9244284  0.47386299]\n",
       "  [0.56518781 0.99349898 0.68299224 0.48427677 0.0355443 ]\n",
       "  [0.50687102 0.4316548  0.42592077 0.92394299 0.37949805]\n",
       "  [0.29611987 0.72878692 0.31099663 0.40218879 0.54189634]]\n",
       "         ,\n",
       " \n",
       "         Capa salida. dimensiones = (1, 6).\n",
       "         pesos: [[0.18205487 0.06283305 0.96899124 0.77975458 0.60936569 0.75709972]]\n",
       "         ]"
      ]
     },
     "execution_count": 15,
     "metadata": {},
     "output_type": "execute_result"
    }
   ],
   "source": [
    "red_sigmoide.layers"
   ]
  },
  {
   "cell_type": "markdown",
   "metadata": {},
   "source": [
    "Si ahora hacemos una iteración del proceso de aprendizaje:"
   ]
  },
  {
   "cell_type": "code",
   "execution_count": 16,
   "metadata": {},
   "outputs": [
    {
     "data": {
      "text/plain": [
       "array([[2.65090077]])"
      ]
     },
     "execution_count": 16,
     "metadata": {},
     "output_type": "execute_result"
    }
   ],
   "source": [
    "red_sigmoide.aprendizaje(x0, y0)"
   ]
  },
  {
   "cell_type": "markdown",
   "metadata": {},
   "source": [
    "Vemos que los pesos de las capas se han actualizado"
   ]
  },
  {
   "cell_type": "code",
   "execution_count": 17,
   "metadata": {},
   "outputs": [
    {
     "data": {
      "text/plain": [
       "[\n",
       "         Capa entrada. dimensiones = no generada.\n",
       "         pesos: None\n",
       "         ,\n",
       " \n",
       "         Capa oculta. dimensiones = (5, 5).\n",
       "         pesos: [[0.05932086 0.24002087 0.6656271  0.03367893 0.55744736]\n",
       "  [0.01307433 0.16667165 0.4497755  0.92441869 0.47385891]\n",
       "  [0.56518425 0.99349202 0.68300345 0.484267   0.03554018]\n",
       "  [0.50686869 0.43165022 0.42592813 0.92393657 0.37949535]\n",
       "  [0.29611729 0.72878188 0.31100475 0.40218171 0.54189336]]\n",
       "         ,\n",
       " \n",
       "         Capa salida. dimensiones = (1, 6).\n",
       "         pesos: [[0.18205171 0.06283263 0.96897925 0.77974497 0.60935681 0.75708897]]\n",
       "         ]"
      ]
     },
     "execution_count": 17,
     "metadata": {},
     "output_type": "execute_result"
    }
   ],
   "source": [
    "red_sigmoide.layers"
   ]
  },
  {
   "cell_type": "markdown",
   "metadata": {},
   "source": [
    "Esto es el equivalente a hacer los siguientes pasos:"
   ]
  },
  {
   "cell_type": "code",
   "execution_count": 18,
   "metadata": {},
   "outputs": [
    {
     "data": {
      "text/plain": [
       "array([[0.9294084]])"
      ]
     },
     "execution_count": 18,
     "metadata": {},
     "output_type": "execute_result"
    }
   ],
   "source": [
    "prediccion = red_sigmoide.forward(x0)\n",
    "prediccion"
   ]
  },
  {
   "cell_type": "code",
   "execution_count": 19,
   "metadata": {},
   "outputs": [],
   "source": [
    "red_sigmoide.backward(prediccion, y0)"
   ]
  },
  {
   "cell_type": "code",
   "execution_count": 20,
   "metadata": {},
   "outputs": [],
   "source": [
    "red_sigmoide.actualizar_pesos()"
   ]
  },
  {
   "cell_type": "code",
   "execution_count": 21,
   "metadata": {},
   "outputs": [
    {
     "data": {
      "text/plain": [
       "[\n",
       "         Capa entrada. dimensiones = no generada.\n",
       "         pesos: None\n",
       "         ,\n",
       " \n",
       "         Capa oculta. dimensiones = (5, 5).\n",
       "         pesos: [[0.05931678 0.24001289 0.66563996 0.03366772 0.55744264]\n",
       "  [0.0130708  0.16666473 0.44978664 0.92440898 0.47385482]\n",
       "  [0.5651807  0.99348507 0.68301465 0.48425723 0.03553607]\n",
       "  [0.50686635 0.43164565 0.42593549 0.92393015 0.37949264]\n",
       "  [0.29611472 0.72877683 0.31101287 0.40217463 0.54189038]]\n",
       "         ,\n",
       " \n",
       "         Capa salida. dimensiones = (1, 6).\n",
       "         pesos: [[0.18204854 0.06283221 0.96896725 0.77973536 0.60934793 0.75707821]]\n",
       "         ]"
      ]
     },
     "execution_count": 21,
     "metadata": {},
     "output_type": "execute_result"
    }
   ],
   "source": [
    "red_sigmoide.layers"
   ]
  },
  {
   "cell_type": "markdown",
   "metadata": {},
   "source": [
    "Ya tenemos una red neuronal que aprende para optimizar una observación usando el método del descenso de gradiente. Ahora solo tenemos que implementar el método de descenso estocástico de gradiente (SGD) para iterar en todo el dataset de entrenamiento e ir modificando los pesos para minimizar los errores de entrenamiento"
   ]
  },
  {
   "cell_type": "code",
   "execution_count": 22,
   "metadata": {},
   "outputs": [],
   "source": [
    "def iteracion_sgd(red, X, y):\n",
    "    # barajamos los datos de entrenamiento\n",
    "    indice_aleatorio = np.random.permutation(X.shape[0])\n",
    "    error =  []\n",
    "    # iteramos todo el dataset\n",
    "    for i in range(indice_aleatorio.shape[0]):\n",
    "        x0 = X[indice_aleatorio[i]]\n",
    "        y0 = y[indice_aleatorio[i]]\n",
    "        err = red.aprendizaje(x0, y0)\n",
    "        error.append(err)\n",
    "    return np.nanmean(np.array(error))\n",
    "\n",
    "def entrenar_sgd(red, n_epocas, X, y):\n",
    "    epocas = []\n",
    "    for epoca in range(n_epocas):\n",
    "        error_epoca = iteracion_sgd(red, X, y)\n",
    "        epocas.append([epoca, error_epoca])\n",
    "    return np.array(epocas)"
   ]
  },
  {
   "cell_type": "markdown",
   "metadata": {},
   "source": [
    "Ahora por ejemplo corremos el algoritmo durante varias iteraciones."
   ]
  },
  {
   "cell_type": "code",
   "execution_count": 23,
   "metadata": {},
   "outputs": [],
   "source": [
    "resultados_sigmoide = entrenar_sgd(red_sigmoide, N_ITERACIONES, X_std, y)"
   ]
  },
  {
   "cell_type": "markdown",
   "metadata": {},
   "source": [
    "Si ahora visualizamos la evolución del error medio"
   ]
  },
  {
   "cell_type": "code",
   "execution_count": 24,
   "metadata": {},
   "outputs": [
    {
     "data": {
      "image/png": "[encoded data removed]",
      "text/plain": [
       "<Figure size 432x432 with 1 Axes>"
      ]
     },
     "metadata": {
      "needs_background": "light"
     },
     "output_type": "display_data"
    }
   ],
   "source": [
    "plt.scatter(x=resultados_sigmoide[:,0], y=resultados_sigmoide[:,1])\n",
    "plt.title(\"Error para red con funcion sigmoide en capa oculta\")\n",
    "plt.xlabel(\"Número de Iteraciones\")\n",
    "plt.ylabel(\"Error medio\");"
   ]
  },
  {
   "cell_type": "markdown",
   "metadata": {},
   "source": [
    "Vemos que a cada iteración (época) de aprendizaje el error medio total se va reduciendo"
   ]
  },
  {
   "cell_type": "markdown",
   "metadata": {},
   "source": [
    "Lo bueno de las redes neuronales es que tienen una flexibilidad que otros modelos no tienen.\n",
    "\n",
    "Por ejemplo podemos cambiar la función de activación de la capa oculta.\n",
    "\n",
    "En la práctica la función sigmoide no se usa para capas ocultas, se suele usar más la **Unidad Linear rectificada (ReLU)**."
   ]
  },
  {
   "cell_type": "code",
   "execution_count": 25,
   "metadata": {},
   "outputs": [],
   "source": [
    "def fn_relu(x, derivada=False):\n",
    "    if derivada:\n",
    "        return 1. * (x>0.)\n",
    "    return np.maximum(x, 0.)\n",
    "\n",
    "def fn_leakyrelu(x, derivada=False):\n",
    "    if derivada:\n",
    "        if x.any()>0:\n",
    "            return 1.\n",
    "        else:\n",
    "            return 0.01\n",
    "    return np.maximum(x, 0.01*x)"
   ]
  },
  {
   "cell_type": "markdown",
   "metadata": {},
   "source": [
    "o incluso modificar la red y añadir otra capa con el doble de unidades"
   ]
  },
  {
   "cell_type": "code",
   "execution_count": 26,
   "metadata": {},
   "outputs": [],
   "source": [
    "red_relu = RedNeuronal(ratio_aprendizaje=RATIO_APRENDIZAJE, fn_error=error_logloss)\n",
    "red_relu.add_layer(InputLayer(n_input, bias=False, fn_activacion=fn_identidad))\n",
    "red_relu.add_layer(HiddenLayer(n_oculta, fn_activacion=fn_relu))\n",
    "red_relu.add_layer(HiddenLayer(n_oculta, fn_activacion=fn_relu))\n",
    "red_relu.add_layer(OutputLayer(n_output, fn_activacion=fn_sigmoide))"
   ]
  },
  {
   "cell_type": "code",
   "execution_count": 27,
   "metadata": {},
   "outputs": [],
   "source": [
    "resultados_relu = entrenar_sgd(red_relu, N_ITERACIONES, X_std, y)"
   ]
  },
  {
   "cell_type": "code",
   "execution_count": 28,
   "metadata": {},
   "outputs": [
    {
     "data": {
      "image/png": "[encoded data removed]",
      "text/plain": [
       "<Figure size 432x432 with 1 Axes>"
      ]
     },
     "metadata": {
      "needs_background": "light"
     },
     "output_type": "display_data"
    }
   ],
   "source": [
    "plt.scatter(x=resultados_relu[:,0], y=resultados_relu[:,1])\n",
    "plt.title(\"Error para red con funcion ReLU en capa oculta\");"
   ]
  }
 ],
 "metadata": {
  "kernelspec": {
   "display_name": "Python 3",
   "language": "python",
   "name": "python3"
  },
  "language_info": {
   "codemirror_mode": {
    "name": "ipython",
    "version": 3
   },
   "file_extension": ".py",
   "mimetype": "text/x-python",
   "name": "python",
   "nbconvert_exporter": "python",
   "pygments_lexer": "ipython3",
   "version": "3.8.3"
  }
 },
 "nbformat": 4,
 "nbformat_minor": 2
}

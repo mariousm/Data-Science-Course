{
 "cells": [
  {
   "cell_type": "markdown",
   "metadata": {},
   "source": [
    "### Propagación hacia adelante (forward propagation)\n",
    "\n",
    "Vamos a implementar una red neuronal con capacidad de hacer predicciones mediante la propagación hacia adelante"
   ]
  },
  {
   "cell_type": "markdown",
   "metadata": {},
   "source": [
    "### Cargamos los datos\n",
    "\n",
    "Vamos a usar el dataset del cancer de mama (Breast Cancer Dataset)"
   ]
  },
  {
   "cell_type": "code",
   "execution_count": 1,
   "metadata": {},
   "outputs": [],
   "source": [
    "import numpy as np"
   ]
  },
  {
   "cell_type": "code",
   "execution_count": 2,
   "metadata": {},
   "outputs": [],
   "source": [
    "from sklearn.datasets import load_breast_cancer"
   ]
  },
  {
   "cell_type": "code",
   "execution_count": 3,
   "metadata": {},
   "outputs": [],
   "source": [
    "data = load_breast_cancer()"
   ]
  },
  {
   "cell_type": "code",
   "execution_count": 4,
   "metadata": {},
   "outputs": [],
   "source": [
    "X, y = data.data, data.target"
   ]
  },
  {
   "cell_type": "markdown",
   "metadata": {},
   "source": [
    "Para poder usar la red neuronal que hemos visto con 4 unidades en la capa de entrada, usaremos solo las 4 primeras variables independientes"
   ]
  },
  {
   "cell_type": "code",
   "execution_count": 5,
   "metadata": {},
   "outputs": [],
   "source": [
    "X = data.data[:,:4]"
   ]
  },
  {
   "cell_type": "code",
   "execution_count": 6,
   "metadata": {},
   "outputs": [
    {
     "data": {
      "text/plain": [
       "(569, 4)"
      ]
     },
     "execution_count": 6,
     "metadata": {},
     "output_type": "execute_result"
    }
   ],
   "source": [
    "X.shape"
   ]
  },
  {
   "cell_type": "code",
   "execution_count": 7,
   "metadata": {},
   "outputs": [
    {
     "data": {
      "text/plain": [
       "array([0, 0, 0, 0, 0, 0, 0, 0, 0, 0, 0, 0, 0, 0, 0, 0, 0, 0, 0, 1])"
      ]
     },
     "execution_count": 7,
     "metadata": {},
     "output_type": "execute_result"
    }
   ],
   "source": [
    "y[:20]"
   ]
  },
  {
   "cell_type": "code",
   "execution_count": 8,
   "metadata": {},
   "outputs": [
    {
     "data": {
      "text/plain": [
       "array([[  17.99,   10.38,  122.8 , 1001.  ],\n",
       "       [  20.57,   17.77,  132.9 , 1326.  ],\n",
       "       [  19.69,   21.25,  130.  , 1203.  ],\n",
       "       [  11.42,   20.38,   77.58,  386.1 ],\n",
       "       [  20.29,   14.34,  135.1 , 1297.  ],\n",
       "       [  12.45,   15.7 ,   82.57,  477.1 ],\n",
       "       [  18.25,   19.98,  119.6 , 1040.  ],\n",
       "       [  13.71,   20.83,   90.2 ,  577.9 ],\n",
       "       [  13.  ,   21.82,   87.5 ,  519.8 ],\n",
       "       [  12.46,   24.04,   83.97,  475.9 ]])"
      ]
     },
     "execution_count": 8,
     "metadata": {},
     "output_type": "execute_result"
    }
   ],
   "source": [
    "X[:10]"
   ]
  },
  {
   "cell_type": "markdown",
   "metadata": {},
   "source": [
    "Para entrenar modelos de deep learning es importante que las variables estén en la misma escala, por ello vamos a estandarizar las variables independientes"
   ]
  },
  {
   "cell_type": "code",
   "execution_count": 9,
   "metadata": {},
   "outputs": [],
   "source": [
    "from sklearn.preprocessing import StandardScaler"
   ]
  },
  {
   "cell_type": "code",
   "execution_count": 10,
   "metadata": {},
   "outputs": [],
   "source": [
    "x_estandardizador = StandardScaler()\n",
    "X_std = x_estandardizador.fit_transform(X)"
   ]
  },
  {
   "cell_type": "markdown",
   "metadata": {},
   "source": [
    "En primer lugar, tenemos que definir una capa, creamos la clase `Layer` que tiene una dimension de entrada, una de salida, y una función de activación\n",
    "\n",
    "Inicialmente sus pesos se generan al azar."
   ]
  },
  {
   "cell_type": "code",
   "execution_count": 11,
   "metadata": {},
   "outputs": [],
   "source": [
    "class Layer:\n",
    "    def __init__(self, dim_input, dim_output, fn_activacion, nombre):\n",
    "        self.dim_input = dim_input\n",
    "        self.dim_output = dim_output\n",
    "        self.generar_pesos((dim_output, dim_input))\n",
    "        self.generar_bias(dim_output)\n",
    "        self.fn_activacion = fn_activacion\n",
    "        self.nombre = nombre\n",
    "        \n",
    "    def __repr__(self):\n",
    "        return \"\"\"\n",
    "        Capa {}. tamaño input: {}. tamaño output: {}.\n",
    "        pesos: {}\n",
    "        bias: {}\n",
    "        \"\"\".format(\n",
    "        self.nombre, self.dim_input, self.dim_output,\n",
    "        self.w, self.b)\n",
    "    \n",
    "    def generar_pesos(self, dimensiones):\n",
    "        self.w = np.random.random(dimensiones)\n",
    "        \n",
    "    def generar_bias(self, dim_output):\n",
    "        self.b = np.random.random((dim_output,))\n",
    "    \n",
    "    def activar(self, x):\n",
    "        return self.fn_activacion(self.w @ x + self.b)"
   ]
  },
  {
   "cell_type": "markdown",
   "metadata": {},
   "source": [
    "Para hacer propagación hacia adelante necesitamos la función de activación,  en este ejemplo voy a usar la función sigmoide como activación de la capa oculta"
   ]
  },
  {
   "cell_type": "code",
   "execution_count": 12,
   "metadata": {},
   "outputs": [],
   "source": [
    "def fn_sigmoide(x):\n",
    "    return 1/(1+np.exp(-x))"
   ]
  },
  {
   "cell_type": "code",
   "execution_count": 13,
   "metadata": {},
   "outputs": [],
   "source": [
    "n_input = 4\n",
    "n_oculta = 5\n",
    "n_output = 1"
   ]
  },
  {
   "cell_type": "code",
   "execution_count": 14,
   "metadata": {},
   "outputs": [],
   "source": [
    "capa_oculta = Layer(n_input, n_oculta, fn_sigmoide, \"oculta\")\n",
    "\n",
    "capa_salida = Layer(n_oculta, n_output, fn_sigmoide, \"salida\")"
   ]
  },
  {
   "cell_type": "code",
   "execution_count": 15,
   "metadata": {},
   "outputs": [
    {
     "name": "stdout",
     "output_type": "stream",
     "text": [
      "\n",
      "        Capa oculta. tamaño input: 4. tamaño output: 5.\n",
      "        pesos: [[0.69797644 0.08610869 0.00952704 0.68134878]\n",
      " [0.10080798 0.14013767 0.80691453 0.26764593]\n",
      " [0.97526905 0.75329126 0.65565684 0.18434846]\n",
      " [0.19676045 0.41162016 0.11416453 0.83939117]\n",
      " [0.73601958 0.02570742 0.09535545 0.6205065 ]]\n",
      "        bias: [0.68676302 0.45467548 0.6809074  0.04339686 0.4732156 ]\n",
      "        \n"
     ]
    }
   ],
   "source": [
    "print(capa_oculta)"
   ]
  },
  {
   "cell_type": "markdown",
   "metadata": {},
   "source": [
    "Ahora podemos crear una red neuronal, que básicamente tiene una lista con las capas que tiene y el método para la propagación hacia adelante"
   ]
  },
  {
   "cell_type": "code",
   "execution_count": 16,
   "metadata": {},
   "outputs": [],
   "source": [
    "class RedNeuronal:\n",
    "    def __init__(self):\n",
    "        self.layers = []\n",
    "        \n",
    "    def add_layer(self, layer):\n",
    "        self.layers.append(layer)\n",
    "        \n",
    "    def forward(self, x):\n",
    "        print(\"\"\"\n",
    "        input {}\n",
    "        \"\"\".format(x))\n",
    "        for layer in self.layers:\n",
    "            x = layer.activar(x)\n",
    "            print(layer)\n",
    "            print(\"\"\"\n",
    "            output: {}\n",
    "            \"\"\".format(x))\n",
    "        return x"
   ]
  },
  {
   "cell_type": "code",
   "execution_count": 17,
   "metadata": {},
   "outputs": [],
   "source": [
    "red = RedNeuronal()\n",
    "\n",
    "red.add_layer(capa_oculta)\n",
    "red.add_layer(capa_salida)"
   ]
  },
  {
   "cell_type": "code",
   "execution_count": 18,
   "metadata": {},
   "outputs": [
    {
     "name": "stdout",
     "output_type": "stream",
     "text": [
      "[-1.57068136 -0.16048584 -1.56024497 -1.23345631] 1\n"
     ]
    }
   ],
   "source": [
    "indice_aleatorio = np.random.permutation(X.shape[0])\n",
    "\n",
    "x0 = X_std[indice_aleatorio[0]]\n",
    "y0 = y[indice_aleatorio[0]]\n",
    "print(x0, y0)"
   ]
  },
  {
   "cell_type": "code",
   "execution_count": 19,
   "metadata": {},
   "outputs": [
    {
     "name": "stdout",
     "output_type": "stream",
     "text": [
      "\n",
      "        input [-1.57068136 -0.16048584 -1.56024497 -1.23345631]\n",
      "        \n",
      "\n",
      "        Capa oculta. tamaño input: 4. tamaño output: 5.\n",
      "        pesos: [[0.69797644 0.08610869 0.00952704 0.68134878]\n",
      " [0.10080798 0.14013767 0.80691453 0.26764593]\n",
      " [0.97526905 0.75329126 0.65565684 0.18434846]\n",
      " [0.19676045 0.41162016 0.11416453 0.83939117]\n",
      " [0.73601958 0.02570742 0.09535545 0.6205065 ]]\n",
      "        bias: [0.68676302 0.45467548 0.6809074  0.04339686 0.4732156 ]\n",
      "        \n",
      "\n",
      "            output: [0.21778296 0.21160703 0.09777516 0.17578246 0.16782684]\n",
      "            \n",
      "\n",
      "        Capa salida. tamaño input: 5. tamaño output: 1.\n",
      "        pesos: [[0.03836902 0.91605681 0.17978807 0.06883539 0.05385343]]\n",
      "        bias: [0.27003112]\n",
      "        \n",
      "\n",
      "            output: [0.62502873]\n",
      "            \n"
     ]
    },
    {
     "data": {
      "text/plain": [
       "array([0.62502873])"
      ]
     },
     "execution_count": 19,
     "metadata": {},
     "output_type": "execute_result"
    }
   ],
   "source": [
    "red.forward(x0)"
   ]
  },
  {
   "cell_type": "code",
   "execution_count": 20,
   "metadata": {},
   "outputs": [
    {
     "data": {
      "text/plain": [
       "1"
      ]
     },
     "execution_count": 20,
     "metadata": {},
     "output_type": "execute_result"
    }
   ],
   "source": [
    "y0"
   ]
  }
 ],
 "metadata": {
  "kernelspec": {
   "display_name": "Python 3",
   "language": "python",
   "name": "python3"
  },
  "language_info": {
   "codemirror_mode": {
    "name": "ipython",
    "version": 3
   },
   "file_extension": ".py",
   "mimetype": "text/x-python",
   "name": "python",
   "nbconvert_exporter": "python",
   "pygments_lexer": "ipython3",
   "version": "3.8.3"
  }
 },
 "nbformat": 4,
 "nbformat_minor": 2
}

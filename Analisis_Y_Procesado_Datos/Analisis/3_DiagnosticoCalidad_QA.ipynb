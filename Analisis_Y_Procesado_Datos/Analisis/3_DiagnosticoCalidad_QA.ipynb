{
 "cells": [
  {
   "cell_type": "code",
   "execution_count": 45,
   "metadata": {},
   "outputs": [],
   "source": [
    "import numpy as np\n",
    "import pandas as pd\n",
    "import matplotlib.pyplot as plt\n",
    "from scipy import stats\n",
    "\n",
    "# Cofiguraciones\n",
    "%matplotlib inline\n",
    "plt.rcParams['figure.figsize'] = (10,10)"
   ]
  },
  {
   "cell_type": "markdown",
   "metadata": {},
   "source": [
    "# Importación de datos"
   ]
  },
  {
   "cell_type": "code",
   "execution_count": 2,
   "metadata": {},
   "outputs": [
    {
     "data": {
      "text/html": [
       "<div>\n",
       "<style scoped>\n",
       "    .dataframe tbody tr th:only-of-type {\n",
       "        vertical-align: middle;\n",
       "    }\n",
       "\n",
       "    .dataframe tbody tr th {\n",
       "        vertical-align: top;\n",
       "    }\n",
       "\n",
       "    .dataframe thead th {\n",
       "        text-align: right;\n",
       "    }\n",
       "</style>\n",
       "<table border=\"1\" class=\"dataframe\">\n",
       "  <thead>\n",
       "    <tr style=\"text-align: right;\">\n",
       "      <th></th>\n",
       "      <th>fabricante</th>\n",
       "      <th>modelo</th>\n",
       "      <th>year</th>\n",
       "      <th>desplazamiento</th>\n",
       "      <th>cilindros</th>\n",
       "      <th>transmision</th>\n",
       "      <th>traccion</th>\n",
       "      <th>clase</th>\n",
       "      <th>combustible</th>\n",
       "      <th>consumo</th>\n",
       "      <th>co2</th>\n",
       "    </tr>\n",
       "  </thead>\n",
       "  <tbody>\n",
       "    <tr>\n",
       "      <th>0</th>\n",
       "      <td>AM General</td>\n",
       "      <td>DJ Po Vehicle 2WD</td>\n",
       "      <td>1984</td>\n",
       "      <td>2.5</td>\n",
       "      <td>4.0</td>\n",
       "      <td>Automatic 3-spd</td>\n",
       "      <td>2-Wheel Drive</td>\n",
       "      <td>Special Purpose Vehicle 2WD</td>\n",
       "      <td>Regular</td>\n",
       "      <td>17</td>\n",
       "      <td>522.764706</td>\n",
       "    </tr>\n",
       "    <tr>\n",
       "      <th>1</th>\n",
       "      <td>AM General</td>\n",
       "      <td>DJ Po Vehicle 2WD</td>\n",
       "      <td>1984</td>\n",
       "      <td>2.5</td>\n",
       "      <td>4.0</td>\n",
       "      <td>Automatic 3-spd</td>\n",
       "      <td>2-Wheel Drive</td>\n",
       "      <td>Special Purpose Vehicle 2WD</td>\n",
       "      <td>Regular</td>\n",
       "      <td>17</td>\n",
       "      <td>522.764706</td>\n",
       "    </tr>\n",
       "    <tr>\n",
       "      <th>2</th>\n",
       "      <td>AM General</td>\n",
       "      <td>FJ8c Post Office</td>\n",
       "      <td>1984</td>\n",
       "      <td>4.2</td>\n",
       "      <td>6.0</td>\n",
       "      <td>Automatic 3-spd</td>\n",
       "      <td>2-Wheel Drive</td>\n",
       "      <td>Special Purpose Vehicle 2WD</td>\n",
       "      <td>Regular</td>\n",
       "      <td>13</td>\n",
       "      <td>683.615385</td>\n",
       "    </tr>\n",
       "    <tr>\n",
       "      <th>3</th>\n",
       "      <td>AM General</td>\n",
       "      <td>FJ8c Post Office</td>\n",
       "      <td>1984</td>\n",
       "      <td>4.2</td>\n",
       "      <td>6.0</td>\n",
       "      <td>Automatic 3-spd</td>\n",
       "      <td>2-Wheel Drive</td>\n",
       "      <td>Special Purpose Vehicle 2WD</td>\n",
       "      <td>Regular</td>\n",
       "      <td>13</td>\n",
       "      <td>683.615385</td>\n",
       "    </tr>\n",
       "    <tr>\n",
       "      <th>4</th>\n",
       "      <td>AM General</td>\n",
       "      <td>Post Office DJ5 2WD</td>\n",
       "      <td>1985</td>\n",
       "      <td>2.5</td>\n",
       "      <td>4.0</td>\n",
       "      <td>Automatic 3-spd</td>\n",
       "      <td>Rear-Wheel Drive</td>\n",
       "      <td>Special Purpose Vehicle 2WD</td>\n",
       "      <td>Regular</td>\n",
       "      <td>16</td>\n",
       "      <td>555.437500</td>\n",
       "    </tr>\n",
       "  </tbody>\n",
       "</table>\n",
       "</div>"
      ],
      "text/plain": [
       "   fabricante               modelo  year  desplazamiento  cilindros  \\\n",
       "0  AM General    DJ Po Vehicle 2WD  1984             2.5        4.0   \n",
       "1  AM General    DJ Po Vehicle 2WD  1984             2.5        4.0   \n",
       "2  AM General     FJ8c Post Office  1984             4.2        6.0   \n",
       "3  AM General     FJ8c Post Office  1984             4.2        6.0   \n",
       "4  AM General  Post Office DJ5 2WD  1985             2.5        4.0   \n",
       "\n",
       "       transmision          traccion                        clase combustible  \\\n",
       "0  Automatic 3-spd     2-Wheel Drive  Special Purpose Vehicle 2WD     Regular   \n",
       "1  Automatic 3-spd     2-Wheel Drive  Special Purpose Vehicle 2WD     Regular   \n",
       "2  Automatic 3-spd     2-Wheel Drive  Special Purpose Vehicle 2WD     Regular   \n",
       "3  Automatic 3-spd     2-Wheel Drive  Special Purpose Vehicle 2WD     Regular   \n",
       "4  Automatic 3-spd  Rear-Wheel Drive  Special Purpose Vehicle 2WD     Regular   \n",
       "\n",
       "   consumo         co2  \n",
       "0       17  522.764706  \n",
       "1       17  522.764706  \n",
       "2       13  683.615385  \n",
       "3       13  683.615385  \n",
       "4       16  555.437500  "
      ]
     },
     "execution_count": 2,
     "metadata": {},
     "output_type": "execute_result"
    }
   ],
   "source": [
    "vehiculos = pd.read_csv(\"./Data/vehiculos_procesado_inicial.csv\")\n",
    "vehiculos.head()"
   ]
  },
  {
   "cell_type": "code",
   "execution_count": 5,
   "metadata": {},
   "outputs": [
    {
     "data": {
      "text/plain": [
       "fabricante         object\n",
       "modelo             object\n",
       "year                int64\n",
       "desplazamiento    float64\n",
       "cilindros         float64\n",
       "transmision        object\n",
       "traccion           object\n",
       "clase              object\n",
       "combustible        object\n",
       "consumo             int64\n",
       "co2               float64\n",
       "dtype: object"
      ]
     },
     "execution_count": 5,
     "metadata": {},
     "output_type": "execute_result"
    }
   ],
   "source": [
    "vehiculos.dtypes"
   ]
  },
  {
   "cell_type": "code",
   "execution_count": 4,
   "metadata": {},
   "outputs": [
    {
     "data": {
      "text/plain": [
       "(38436, 11)"
      ]
     },
     "execution_count": 4,
     "metadata": {},
     "output_type": "execute_result"
    }
   ],
   "source": [
    "vehiculos.shape"
   ]
  },
  {
   "cell_type": "markdown",
   "metadata": {},
   "source": [
    "# Duplicados"
   ]
  },
  {
   "cell_type": "markdown",
   "metadata": {},
   "source": [
    "- A/ Asegurarse de que los registros/datos que no deberian estar duplicados no lo están\n",
    "- B/ Revisar si hay columnas que tienen un alto número de duplicados, ya que pueden no aportar mucha información"
   ]
  },
  {
   "cell_type": "markdown",
   "metadata": {},
   "source": [
    "## A/\n",
    "\n",
    "Asegurarse de que los registros/datos que no deberian estar duplicados no lo están\n",
    "\n",
    "A priori lo único que no se tendría que repetir es el conjunto de fabricante + modelo + año. Por ello, vamos a comprobar si son únicos el conjunto de dichos campos"
   ]
  },
  {
   "cell_type": "code",
   "execution_count": 16,
   "metadata": {},
   "outputs": [
    {
     "data": {
      "text/plain": [
       "Jeep-Cherokee/Wagoneer-1985              24\n",
       "Chevrolet-C10 Pickup 2WD-1984            19\n",
       "Ford-F150 Pickup 2WD-1984                19\n",
       "GMC-C15 Pickup 2WD-1984                  19\n",
       "GMC-S15 Pickup 2WD-1984                  18\n",
       "                                         ..\n",
       "Infiniti-Q45 Sport-2006                   1\n",
       "Land Rover-Discovery Sport-2016           1\n",
       "Chevrolet-City Express Cargo Van-2017     1\n",
       "GMC-Safari AWD (cargo)-2003               1\n",
       "Audi-A8 L-2011                            1\n",
       "Name: modelo_unico, Length: 17448, dtype: int64"
      ]
     },
     "execution_count": 16,
     "metadata": {},
     "output_type": "execute_result"
    }
   ],
   "source": [
    "#vehiculos[\"modelo_unico\"] = vehiculos[\"fabricante\"] + \"-\" + vehiculos[\"modelo\"] + \"-\" + str(vehiculos[\"year\"])\n",
    "\n",
    "# Mejor hacerlo de esta forma, ya que eliminia los espacios en blanco y saltos de línea\n",
    "vehiculos[\"modelo_unico\"] = vehiculos.fabricante.str.cat([vehiculos.modelo, vehiculos.year.apply(str)], sep=\"-\")\n",
    "vehiculos[\"modelo_unico\"].value_counts()"
   ]
  },
  {
   "cell_type": "markdown",
   "metadata": {},
   "source": [
    "Como podemos observar hay muchos duplicados, lo que a priori no tenía que pasar, por lo que vamos a ver que está sucediendo. Para ello buscamos lo que sucede con un modelo en concreto."
   ]
  },
  {
   "cell_type": "code",
   "execution_count": 17,
   "metadata": {},
   "outputs": [
    {
     "data": {
      "text/html": [
       "<div>\n",
       "<style scoped>\n",
       "    .dataframe tbody tr th:only-of-type {\n",
       "        vertical-align: middle;\n",
       "    }\n",
       "\n",
       "    .dataframe tbody tr th {\n",
       "        vertical-align: top;\n",
       "    }\n",
       "\n",
       "    .dataframe thead th {\n",
       "        text-align: right;\n",
       "    }\n",
       "</style>\n",
       "<table border=\"1\" class=\"dataframe\">\n",
       "  <thead>\n",
       "    <tr style=\"text-align: right;\">\n",
       "      <th></th>\n",
       "      <th>fabricante</th>\n",
       "      <th>modelo</th>\n",
       "      <th>year</th>\n",
       "      <th>desplazamiento</th>\n",
       "      <th>cilindros</th>\n",
       "      <th>transmision</th>\n",
       "      <th>traccion</th>\n",
       "      <th>clase</th>\n",
       "      <th>combustible</th>\n",
       "      <th>consumo</th>\n",
       "      <th>co2</th>\n",
       "      <th>modelo_unico</th>\n",
       "    </tr>\n",
       "  </thead>\n",
       "  <tbody>\n",
       "    <tr>\n",
       "      <th>20924</th>\n",
       "      <td>Jeep</td>\n",
       "      <td>Cherokee/Wagoneer</td>\n",
       "      <td>1985</td>\n",
       "      <td>2.5</td>\n",
       "      <td>4.0</td>\n",
       "      <td>Automatic 3-spd</td>\n",
       "      <td>Rear-Wheel Drive</td>\n",
       "      <td>Special Purpose Vehicle 2WD</td>\n",
       "      <td>Regular</td>\n",
       "      <td>19</td>\n",
       "      <td>467.736842</td>\n",
       "      <td>Jeep-Cherokee/Wagoneer-1985</td>\n",
       "    </tr>\n",
       "    <tr>\n",
       "      <th>20925</th>\n",
       "      <td>Jeep</td>\n",
       "      <td>Cherokee/Wagoneer</td>\n",
       "      <td>1985</td>\n",
       "      <td>2.5</td>\n",
       "      <td>4.0</td>\n",
       "      <td>Manual 4-spd</td>\n",
       "      <td>Rear-Wheel Drive</td>\n",
       "      <td>Special Purpose Vehicle 2WD</td>\n",
       "      <td>Regular</td>\n",
       "      <td>22</td>\n",
       "      <td>403.954545</td>\n",
       "      <td>Jeep-Cherokee/Wagoneer-1985</td>\n",
       "    </tr>\n",
       "    <tr>\n",
       "      <th>20926</th>\n",
       "      <td>Jeep</td>\n",
       "      <td>Cherokee/Wagoneer</td>\n",
       "      <td>1985</td>\n",
       "      <td>2.5</td>\n",
       "      <td>4.0</td>\n",
       "      <td>Manual 4-spd</td>\n",
       "      <td>Rear-Wheel Drive</td>\n",
       "      <td>Special Purpose Vehicle 2WD</td>\n",
       "      <td>Regular</td>\n",
       "      <td>19</td>\n",
       "      <td>467.736842</td>\n",
       "      <td>Jeep-Cherokee/Wagoneer-1985</td>\n",
       "    </tr>\n",
       "    <tr>\n",
       "      <th>20927</th>\n",
       "      <td>Jeep</td>\n",
       "      <td>Cherokee/Wagoneer</td>\n",
       "      <td>1985</td>\n",
       "      <td>2.5</td>\n",
       "      <td>4.0</td>\n",
       "      <td>Manual 5-spd</td>\n",
       "      <td>Rear-Wheel Drive</td>\n",
       "      <td>Special Purpose Vehicle 2WD</td>\n",
       "      <td>Regular</td>\n",
       "      <td>20</td>\n",
       "      <td>444.350000</td>\n",
       "      <td>Jeep-Cherokee/Wagoneer-1985</td>\n",
       "    </tr>\n",
       "    <tr>\n",
       "      <th>20928</th>\n",
       "      <td>Jeep</td>\n",
       "      <td>Cherokee/Wagoneer</td>\n",
       "      <td>1985</td>\n",
       "      <td>2.8</td>\n",
       "      <td>6.0</td>\n",
       "      <td>Automatic 3-spd</td>\n",
       "      <td>Rear-Wheel Drive</td>\n",
       "      <td>Special Purpose Vehicle 2WD</td>\n",
       "      <td>Regular</td>\n",
       "      <td>15</td>\n",
       "      <td>592.466667</td>\n",
       "      <td>Jeep-Cherokee/Wagoneer-1985</td>\n",
       "    </tr>\n",
       "  </tbody>\n",
       "</table>\n",
       "</div>"
      ],
      "text/plain": [
       "      fabricante             modelo  year  desplazamiento  cilindros  \\\n",
       "20924       Jeep  Cherokee/Wagoneer  1985             2.5        4.0   \n",
       "20925       Jeep  Cherokee/Wagoneer  1985             2.5        4.0   \n",
       "20926       Jeep  Cherokee/Wagoneer  1985             2.5        4.0   \n",
       "20927       Jeep  Cherokee/Wagoneer  1985             2.5        4.0   \n",
       "20928       Jeep  Cherokee/Wagoneer  1985             2.8        6.0   \n",
       "\n",
       "           transmision          traccion                        clase  \\\n",
       "20924  Automatic 3-spd  Rear-Wheel Drive  Special Purpose Vehicle 2WD   \n",
       "20925     Manual 4-spd  Rear-Wheel Drive  Special Purpose Vehicle 2WD   \n",
       "20926     Manual 4-spd  Rear-Wheel Drive  Special Purpose Vehicle 2WD   \n",
       "20927     Manual 5-spd  Rear-Wheel Drive  Special Purpose Vehicle 2WD   \n",
       "20928  Automatic 3-spd  Rear-Wheel Drive  Special Purpose Vehicle 2WD   \n",
       "\n",
       "      combustible  consumo         co2                 modelo_unico  \n",
       "20924     Regular       19  467.736842  Jeep-Cherokee/Wagoneer-1985  \n",
       "20925     Regular       22  403.954545  Jeep-Cherokee/Wagoneer-1985  \n",
       "20926     Regular       19  467.736842  Jeep-Cherokee/Wagoneer-1985  \n",
       "20927     Regular       20  444.350000  Jeep-Cherokee/Wagoneer-1985  \n",
       "20928     Regular       15  592.466667  Jeep-Cherokee/Wagoneer-1985  "
      ]
     },
     "execution_count": 17,
     "metadata": {},
     "output_type": "execute_result"
    }
   ],
   "source": [
    "vehiculos[vehiculos.modelo_unico == \"Jeep-Cherokee/Wagoneer-1985\"].head()"
   ]
  },
  {
   "cell_type": "markdown",
   "metadata": {},
   "source": [
    "En un principio el fabricante + modelo + año tendría que ser únicos, pero al hacer el estudio del caso \"Jeep-Cherokee/Wagoneer-1985\", vemos que aunque tenga el mismo valor para dichos campos otros pueden ser diferentes, por lo que no es correcto pensar que el fabricante + modelo + año tengan que ser únicos"
   ]
  },
  {
   "cell_type": "markdown",
   "metadata": {},
   "source": [
    "Por lo tanto, solo vamos a tener en cuenta los registros que son complemante iguales, es decir, que todos los campos son los mismos"
   ]
  },
  {
   "cell_type": "code",
   "execution_count": 19,
   "metadata": {},
   "outputs": [
    {
     "data": {
      "text/plain": [
       "(38436, 12)"
      ]
     },
     "execution_count": 19,
     "metadata": {},
     "output_type": "execute_result"
    }
   ],
   "source": [
    "vehiculos.shape"
   ]
  },
  {
   "cell_type": "code",
   "execution_count": 20,
   "metadata": {},
   "outputs": [
    {
     "data": {
      "text/plain": [
       "(36930, 12)"
      ]
     },
     "execution_count": 20,
     "metadata": {},
     "output_type": "execute_result"
    }
   ],
   "source": [
    "vehiculos = vehiculos.drop_duplicates()\n",
    "vehiculos.shape"
   ]
  },
  {
   "cell_type": "code",
   "execution_count": 22,
   "metadata": {},
   "outputs": [],
   "source": [
    "del vehiculos[\"modelo_unico\"]"
   ]
  },
  {
   "cell_type": "markdown",
   "metadata": {},
   "source": [
    "## B/\n",
    "\n",
    "Revisar si hay columnas que tienen un alto número de duplicados, ya que pueden no aportar mucha información. Los valores que se calculan nos permite saber si hay muchos duplicados, pero puede que esos duplicados estén bien como por ejemplo el combustible, el 65% de sus datos son iguales.\n",
    "\n",
    "Que los campos tracción, transimisón, cilindro y combustible tengan un problema de valores repetidos, no es algo drámatico, y puede llegar a no ser un problema. Si alguno de estos campos tuviera un 90% de datos repetidos o más, sí que sería un problema, ya que nos indicaría que esos campos no merecen mucho estudio si la gran mayoría de veces son siempre el mismo valor."
   ]
  },
  {
   "cell_type": "code",
   "execution_count": 41,
   "metadata": {},
   "outputs": [
    {
     "name": "stdout",
     "output_type": "stream",
     "text": [
      "fabricante | 0.1-0.0 | 9.962-0.003 | object\n",
      "modelo | 0.005-0.0 | 0.536-0.003 | object\n",
      "year | 0.038-0.007 | 3.769-0.734 | int64\n",
      "desplazamiento | 0.095-0.0 | 9.542-0.003 | float64\n",
      "cilindros | 0.38-0.0 | 37.972-0.022 | float64\n",
      "transmision | 0.287-0.0 | 28.67-0.003 | object\n",
      "traccion | 0.353-0.005 | 35.25-0.479 | object\n",
      "clase | 0.145-0.0 | 14.49-0.003 | object\n",
      "combustible | 0.652-0.0 | 65.199-0.005 | object\n",
      "consumo | 0.097-0.0 | 9.71-0.003 | int64\n",
      "co2 | 0.084-0.0 | 8.405-0.003 | float64\n"
     ]
    }
   ],
   "source": [
    "def valores_duplicados_col(df):\n",
    "    nRecords = len(df)\n",
    "\n",
    "    for col in df:\n",
    "        numeroPorValor = vehiculos[col].value_counts()\n",
    "        masComun = numeroPorValor.iloc[0]\n",
    "        menosComun = numeroPorValor.iloc[-1]\n",
    "\n",
    "        print(\"{} | {}-{} | {}-{} | {}\".format(\n",
    "            df[col].name,\n",
    "            round(masComun / (1.0 * nRecords), 3),\n",
    "            round(menosComun / (1.0 * nRecords), 3),\n",
    "            round((masComun / (1.0 * nRecords)) * 100, 3),\n",
    "            round((menosComun / (1.0 * nRecords)) * 100, 3),\n",
    "            df[col].dtype\n",
    "            )\n",
    "        )\n",
    "        \n",
    "valores_duplicados_col(vehiculos)"
   ]
  },
  {
   "cell_type": "markdown",
   "metadata": {},
   "source": [
    "# Valores inexistentes\n",
    "\n",
    "Hay que estudiar los campos que no poseen datos, si hay un alto porcentaje de los registros que tienen ese campos vacíos o no. Si el porcentaje es pequeño se puede despreciar, pero de lo contrario hay que estudiar si esos campos son necesarios o no, si sí que lo son entonces hay que rellenar esos campos, con una nueva clase, o con el valor más frecuente, o usar un modelo predictivo para que calcule dichos valores..."
   ]
  },
  {
   "cell_type": "code",
   "execution_count": 44,
   "metadata": {},
   "outputs": [
    {
     "name": "stdout",
     "output_type": "stream",
     "text": [
      "fabricante | 0.0 | 0.0 | object\n",
      "modelo | 0.0 | 0.0 | object\n",
      "year | 0.0 | 0.0 | int64\n",
      "desplazamiento | 0.0037909558624424585 | 0.37909558624424583 | float64\n",
      "cilindros | 0.003845112374763065 | 0.3845112374763065 | float64\n",
      "transmision | 0.00029786081776333605 | 0.029786081776333604 | object\n",
      "traccion | 0.02158137015976171 | 2.158137015976171 | object\n",
      "clase | 0.0 | 0.0 | object\n",
      "combustible | 0.0 | 0.0 | object\n",
      "consumo | 0.0 | 0.0 | int64\n",
      "co2 | 0.0 | 0.0 | float64\n"
     ]
    }
   ],
   "source": [
    "def valores_inexistentes_col(df):\n",
    "    nRecords = len(df)\n",
    "    \n",
    "    for col in df:\n",
    "        nDatosInexistentes = df[col].isna().sum()\n",
    "        print(\"{} | {} | {} | {}\".format(\n",
    "            df[col].name,\n",
    "            nDatosInexistentes / nRecords,\n",
    "            (nDatosInexistentes / nRecords) * 100,\n",
    "            df[col].dtype\n",
    "        ))\n",
    "valores_inexistentes_col(vehiculos)"
   ]
  },
  {
   "cell_type": "markdown",
   "metadata": {},
   "source": [
    "Vemos que campo traccion, cilindros y transmision tienen valores inexistentes. Sin embargo son cantidades despreciables (maximo es la variable traccion con un 2% inexistente)"
   ]
  },
  {
   "cell_type": "markdown",
   "metadata": {},
   "source": [
    "# Valores extremos (outliers)\n",
    "\n",
    "Para estudiar los valores extremos una medida que podemos usar es calcular los outliers con una puntación Z-Score mayor que 3, esto lo que significa es que se alejan 3 veces o más de la desviacón estándar de la media. Lógicamente solo se puede calcular el Z-Score en aquellas variables cuantiativas.\n",
    "\n",
    "\n",
    "El Z-Score se mide como: $$z = \\frac{x - \\mu}{\\sigma}$$  \n",
    "donde: \n",
    "$$x = valor$$\n",
    "$$\\mu = media$$\n",
    "$$\\sigma = desviación$$\n"
   ]
  },
  {
   "cell_type": "code",
   "execution_count": 57,
   "metadata": {},
   "outputs": [
    {
     "name": "stdout",
     "output_type": "stream",
     "text": [
      "year | 0 | int64\n",
      "desplazamiento | 0 | float64\n",
      "cilindros | 0 | float64\n",
      "consumo | 233 | int64\n",
      "co2 | 358 | float64\n"
     ]
    },
    {
     "name": "stderr",
     "output_type": "stream",
     "text": [
      "<ipython-input-57-18c373575a64>:4: RuntimeWarning: invalid value encountered in greater\n",
      "  nOutliers = np.sum(np.absolute(stats.zscore(vehiculos[col])) > 3)\n"
     ]
    }
   ],
   "source": [
    "def outliers_col(df):\n",
    "    for col in df:\n",
    "        if df[col].dtype != np.object:\n",
    "            nOutliers = np.sum(np.absolute(stats.zscore(vehiculos[col])) > 3)\n",
    "            print(\"{} | {} | {}\".format(\n",
    "                col,\n",
    "                nOutliers,\n",
    "                df[col].dtype\n",
    "            ))\n",
    "\n",
    "outliers_col(vehiculos)"
   ]
  },
  {
   "cell_type": "markdown",
   "metadata": {},
   "source": [
    "Los únicos campos que tienen outliers son consumo y co2, éstos son los que vamos a estudiar acontinuación. Por otro lado, cuando se realiza el procesado hay que reducir los outliers que no tienen sentido, no hace falta que haya 0 outliers, redunciendolos vamos a mejorar en los modelos predictivos de machine learning/deep learning."
   ]
  },
  {
   "cell_type": "markdown",
   "metadata": {},
   "source": [
    "**La mejor forma de ver los outliers de un campo es usando un gráfico boxplot**"
   ]
  },
  {
   "cell_type": "code",
   "execution_count": 58,
   "metadata": {},
   "outputs": [
    {
     "data": {
      "text/plain": [
       "<matplotlib.axes._subplots.AxesSubplot at 0x1b31e446610>"
      ]
     },
     "execution_count": 58,
     "metadata": {},
     "output_type": "execute_result"
    },
    {
     "data": {
      "image/png": "[encoded data removed]",
      "text/plain": [
       "<Figure size 720x720 with 1 Axes>"
      ]
     },
     "metadata": {
      "needs_background": "light"
     },
     "output_type": "display_data"
    }
   ],
   "source": [
    "vehiculos.boxplot(column=\"consumo\")"
   ]
  },
  {
   "cell_type": "code",
   "execution_count": 60,
   "metadata": {},
   "outputs": [
    {
     "data": {
      "text/plain": [
       "<matplotlib.axes._subplots.AxesSubplot at 0x1b32108acd0>"
      ]
     },
     "execution_count": 60,
     "metadata": {},
     "output_type": "execute_result"
    },
    {
     "data": {
      "image/png": "[encoded data removed]",
      "text/plain": [
       "<Figure size 720x720 with 1 Axes>"
      ]
     },
     "metadata": {
      "needs_background": "light"
     },
     "output_type": "display_data"
    }
   ],
   "source": [
    "vehiculos.boxplot(column=\"co2\")"
   ]
  },
  {
   "cell_type": "markdown",
   "metadata": {},
   "source": [
    "Como podemos ver en los graficos anteriores hay algunos coches que consumen más de lo normal, otros que consumen menos o incluso nada. Esto se debe a que en el dataset no hay solo vehículos de gasolina, también hay híbridos y eléctricos.  \n",
    "  \n",
    "  Como el objetivo es estudiar el consumo, vamos a eliminar los coches eléctricos."
   ]
  },
  {
   "cell_type": "code",
   "execution_count": 62,
   "metadata": {},
   "outputs": [
    {
     "data": {
      "text/plain": [
       "array(['Electricity'], dtype=object)"
      ]
     },
     "execution_count": 62,
     "metadata": {},
     "output_type": "execute_result"
    }
   ],
   "source": [
    "vehiculos[vehiculos.co2 == 0].combustible.unique()"
   ]
  },
  {
   "cell_type": "code",
   "execution_count": 70,
   "metadata": {},
   "outputs": [
    {
     "data": {
      "text/html": [
       "<div>\n",
       "<style scoped>\n",
       "    .dataframe tbody tr th:only-of-type {\n",
       "        vertical-align: middle;\n",
       "    }\n",
       "\n",
       "    .dataframe tbody tr th {\n",
       "        vertical-align: top;\n",
       "    }\n",
       "\n",
       "    .dataframe thead th {\n",
       "        text-align: right;\n",
       "    }\n",
       "</style>\n",
       "<table border=\"1\" class=\"dataframe\">\n",
       "  <thead>\n",
       "    <tr style=\"text-align: right;\">\n",
       "      <th></th>\n",
       "      <th>fabricante</th>\n",
       "      <th>modelo</th>\n",
       "      <th>year</th>\n",
       "      <th>desplazamiento</th>\n",
       "      <th>cilindros</th>\n",
       "      <th>transmision</th>\n",
       "      <th>traccion</th>\n",
       "      <th>clase</th>\n",
       "      <th>combustible</th>\n",
       "      <th>consumo</th>\n",
       "      <th>co2</th>\n",
       "    </tr>\n",
       "  </thead>\n",
       "  <tbody>\n",
       "    <tr>\n",
       "      <th>0</th>\n",
       "      <td>AM General</td>\n",
       "      <td>DJ Po Vehicle 2WD</td>\n",
       "      <td>1984</td>\n",
       "      <td>2.5</td>\n",
       "      <td>4.0</td>\n",
       "      <td>Automatic 3-spd</td>\n",
       "      <td>2-Wheel Drive</td>\n",
       "      <td>Special Purpose Vehicle 2WD</td>\n",
       "      <td>Regular</td>\n",
       "      <td>17</td>\n",
       "      <td>522.764706</td>\n",
       "    </tr>\n",
       "    <tr>\n",
       "      <th>2</th>\n",
       "      <td>AM General</td>\n",
       "      <td>FJ8c Post Office</td>\n",
       "      <td>1984</td>\n",
       "      <td>4.2</td>\n",
       "      <td>6.0</td>\n",
       "      <td>Automatic 3-spd</td>\n",
       "      <td>2-Wheel Drive</td>\n",
       "      <td>Special Purpose Vehicle 2WD</td>\n",
       "      <td>Regular</td>\n",
       "      <td>13</td>\n",
       "      <td>683.615385</td>\n",
       "    </tr>\n",
       "    <tr>\n",
       "      <th>4</th>\n",
       "      <td>AM General</td>\n",
       "      <td>Post Office DJ5 2WD</td>\n",
       "      <td>1985</td>\n",
       "      <td>2.5</td>\n",
       "      <td>4.0</td>\n",
       "      <td>Automatic 3-spd</td>\n",
       "      <td>Rear-Wheel Drive</td>\n",
       "      <td>Special Purpose Vehicle 2WD</td>\n",
       "      <td>Regular</td>\n",
       "      <td>16</td>\n",
       "      <td>555.437500</td>\n",
       "    </tr>\n",
       "    <tr>\n",
       "      <th>5</th>\n",
       "      <td>AM General</td>\n",
       "      <td>Post Office DJ8 2WD</td>\n",
       "      <td>1985</td>\n",
       "      <td>4.2</td>\n",
       "      <td>6.0</td>\n",
       "      <td>Automatic 3-spd</td>\n",
       "      <td>Rear-Wheel Drive</td>\n",
       "      <td>Special Purpose Vehicle 2WD</td>\n",
       "      <td>Regular</td>\n",
       "      <td>13</td>\n",
       "      <td>683.615385</td>\n",
       "    </tr>\n",
       "    <tr>\n",
       "      <th>6</th>\n",
       "      <td>ASC Incorporated</td>\n",
       "      <td>GNX</td>\n",
       "      <td>1987</td>\n",
       "      <td>3.8</td>\n",
       "      <td>6.0</td>\n",
       "      <td>Automatic 4-spd</td>\n",
       "      <td>Rear-Wheel Drive</td>\n",
       "      <td>Midsize Cars</td>\n",
       "      <td>Premium</td>\n",
       "      <td>16</td>\n",
       "      <td>555.437500</td>\n",
       "    </tr>\n",
       "  </tbody>\n",
       "</table>\n",
       "</div>"
      ],
      "text/plain": [
       "         fabricante               modelo  year  desplazamiento  cilindros  \\\n",
       "0        AM General    DJ Po Vehicle 2WD  1984             2.5        4.0   \n",
       "2        AM General     FJ8c Post Office  1984             4.2        6.0   \n",
       "4        AM General  Post Office DJ5 2WD  1985             2.5        4.0   \n",
       "5        AM General  Post Office DJ8 2WD  1985             4.2        6.0   \n",
       "6  ASC Incorporated                  GNX  1987             3.8        6.0   \n",
       "\n",
       "       transmision          traccion                        clase combustible  \\\n",
       "0  Automatic 3-spd     2-Wheel Drive  Special Purpose Vehicle 2WD     Regular   \n",
       "2  Automatic 3-spd     2-Wheel Drive  Special Purpose Vehicle 2WD     Regular   \n",
       "4  Automatic 3-spd  Rear-Wheel Drive  Special Purpose Vehicle 2WD     Regular   \n",
       "5  Automatic 3-spd  Rear-Wheel Drive  Special Purpose Vehicle 2WD     Regular   \n",
       "6  Automatic 4-spd  Rear-Wheel Drive                 Midsize Cars     Premium   \n",
       "\n",
       "   consumo         co2  \n",
       "0       17  522.764706  \n",
       "2       13  683.615385  \n",
       "4       16  555.437500  \n",
       "5       13  683.615385  \n",
       "6       16  555.437500  "
      ]
     },
     "execution_count": 70,
     "metadata": {},
     "output_type": "execute_result"
    }
   ],
   "source": [
    "vehiculos_no_electricos = vehiculos[vehiculos.co2 > 0]\n",
    "vehiculos_no_electricos.head()"
   ]
  },
  {
   "cell_type": "markdown",
   "metadata": {},
   "source": [
    "**Volvemos a ejecutar todo de nuevo para este nuevo dataset, no sea que haya cambios.**"
   ]
  },
  {
   "cell_type": "code",
   "execution_count": 71,
   "metadata": {},
   "outputs": [
    {
     "name": "stdout",
     "output_type": "stream",
     "text": [
      "year | 0 | int64\n",
      "desplazamiento | 0 | float64\n",
      "cilindros | 0 | float64\n",
      "consumo | 233 | int64\n",
      "co2 | 358 | float64\n"
     ]
    },
    {
     "name": "stderr",
     "output_type": "stream",
     "text": [
      "<ipython-input-57-18c373575a64>:4: RuntimeWarning: invalid value encountered in greater\n",
      "  nOutliers = np.sum(np.absolute(stats.zscore(vehiculos[col])) > 3)\n"
     ]
    }
   ],
   "source": [
    "outliers_col(vehiculos_no_electricos)"
   ]
  },
  {
   "cell_type": "code",
   "execution_count": 72,
   "metadata": {},
   "outputs": [
    {
     "name": "stdout",
     "output_type": "stream",
     "text": [
      "fabricante | 0.1-0.0 | 10.0-0.003 | object\n",
      "modelo | 0.005-0.0 | 0.538-0.003 | object\n",
      "year | 0.038-0.007 | 3.784-0.737 | int64\n",
      "desplazamiento | 0.096-0.0 | 9.578-0.003 | float64\n",
      "cilindros | 0.381-0.0 | 38.115-0.022 | float64\n",
      "transmision | 0.288-0.0 | 28.779-0.003 | object\n",
      "traccion | 0.354-0.005 | 35.384-0.481 | object\n",
      "clase | 0.145-0.0 | 14.544-0.003 | object\n",
      "combustible | 0.654-0.0 | 65.445-0.005 | object\n",
      "consumo | 0.097-0.0 | 9.747-0.003 | int64\n",
      "co2 | 0.084-0.0 | 8.437-0.003 | float64\n"
     ]
    }
   ],
   "source": [
    "valores_duplicados_col(vehiculos_no_electricos)"
   ]
  },
  {
   "cell_type": "code",
   "execution_count": 73,
   "metadata": {},
   "outputs": [
    {
     "name": "stdout",
     "output_type": "stream",
     "text": [
      "fabricante | 0.0 | 0.0 | object\n",
      "modelo | 0.0 | 0.0 | object\n",
      "year | 0.0 | 0.0 | int64\n",
      "desplazamiento | 5.43611209263135e-05 | 0.00543611209263135 | float64\n",
      "cilindros | 8.154168138947025e-05 | 0.008154168138947026 | float64\n",
      "transmision | 5.43611209263135e-05 | 0.00543611209263135 | object\n",
      "traccion | 0.021445462205430674 | 2.1445462205430674 | object\n",
      "clase | 0.0 | 0.0 | object\n",
      "combustible | 0.0 | 0.0 | object\n",
      "consumo | 0.0 | 0.0 | int64\n",
      "co2 | 0.0 | 0.0 | float64\n"
     ]
    }
   ],
   "source": [
    "valores_inexistentes_col(vehiculos_no_electricos)"
   ]
  },
  {
   "cell_type": "markdown",
   "metadata": {},
   "source": [
    "Ahora vemos que no hay valores inexistentes extremos en ninguna variable. La variable con mayor numero de valores inexistentes es traccion (2%). Obviamente, los coches electricos no tienen motor de gasolina y por tanto, no tienen cilindros"
   ]
  },
  {
   "cell_type": "markdown",
   "metadata": {},
   "source": [
    "# Conclusiones\n",
    "- Hay 1506 records duplicados (los hemos eliminado).\n",
    "- Las variables desplazamiento, cilindros, transmisión y tracción tienen valores inexistentes.\n",
    "- La variable combustible tiene una clase dominante (65% de coches tienen combustible Regular).\n",
    "- Hay un outlier en las variables co2 y consumo.\n",
    "- Hay coches híbridos y coches electricos (hemos eliminado estos ultimos ya que no contaminan)."
   ]
  },
  {
   "cell_type": "markdown",
   "metadata": {},
   "source": [
    "# Exportamos"
   ]
  },
  {
   "cell_type": "code",
   "execution_count": 75,
   "metadata": {},
   "outputs": [],
   "source": [
    "vehiculos_no_electricos.to_csv(\"./data/vehiculos_limpio_analisis.csv\", index=False)"
   ]
  }
 ],
 "metadata": {
  "kernelspec": {
   "display_name": "Python 3",
   "language": "python",
   "name": "python3"
  },
  "language_info": {
   "codemirror_mode": {
    "name": "ipython",
    "version": 3
   },
   "file_extension": ".py",
   "mimetype": "text/x-python",
   "name": "python",
   "nbconvert_exporter": "python",
   "pygments_lexer": "ipython3",
   "version": "3.8.3"
  }
 },
 "nbformat": 4,
 "nbformat_minor": 4
}
